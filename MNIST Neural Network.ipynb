{
 "cells": [
  {
   "cell_type": "code",
   "execution_count": 1,
   "id": "455c0fe5",
   "metadata": {},
   "outputs": [],
   "source": [
    "import torch\n",
    "import torch.nn as nn\n",
    "import torch.optim as optim\n",
    "import torchvision\n",
    "import torchvision.transforms as transforms\n",
    "from scipy.stats import norm\n",
    "import matplotlib.pyplot as plt\n",
    "import numpy as np\n",
    "from copy import deepcopy\n",
    "from torch.distributions import Normal"
   ]
  },
  {
   "cell_type": "markdown",
   "id": "3765b6a5",
   "metadata": {},
   "source": [
    "# Loading Dataset"
   ]
  },
  {
   "cell_type": "code",
   "execution_count": 2,
   "id": "cd4a1c91",
   "metadata": {},
   "outputs": [],
   "source": [
    "transform = transforms.Compose([transforms.ToTensor(), transforms.Normalize((0.5,), (0.5,))])\n",
    "\n",
    "train_dataset = torchvision.datasets.MNIST(root='./data', train=True, download=True, transform=transform)\n",
    "train_loader = torch.utils.data.DataLoader(train_dataset, batch_size=64, shuffle=True)\n",
    "\n",
    "test_dataset = torchvision.datasets.MNIST(root='./data', train=False, download=True, transform=transform)\n",
    "test_loader = torch.utils.data.DataLoader(test_dataset, batch_size=64, shuffle=False)\n"
   ]
  },
  {
   "cell_type": "code",
   "execution_count": 3,
   "id": "71e37e0a",
   "metadata": {},
   "outputs": [],
   "source": [
    "\n",
    "# Save the datasets\n",
    "torch.save(train_dataset, 'train_dataset.pth')\n",
    "torch.save(test_dataset, 'test_dataset.pth')"
   ]
  },
  {
   "cell_type": "markdown",
   "id": "68183592",
   "metadata": {},
   "source": [
    "# Build NN (bias=0)"
   ]
  },
  {
   "cell_type": "code",
   "execution_count": 4,
   "id": "24aa5ef7",
   "metadata": {},
   "outputs": [],
   "source": [
    "class CustomizableNN(nn.Module):\n",
    "    def __init__(self, input_size, output_size, hidden_sizes, num_layers, use_bias):\n",
    "        super(CustomizableNN, self).__init__()\n",
    "\n",
    "        # Validate input\n",
    "        assert num_layers == len(hidden_sizes), \"Number of hidden layers should match the length of hidden_sizes.\"\n",
    "\n",
    "        # Input layer\n",
    "        layers = [nn.Linear(input_size, hidden_sizes[0], bias=use_bias[0]), nn.Sigmoid()]\n",
    "\n",
    "        # Hidden layers\n",
    "        for i in range(1, num_layers):\n",
    "            layers += [nn.Linear(hidden_sizes[i - 1], hidden_sizes[i], bias=use_bias[i]), nn.Sigmoid()]\n",
    "\n",
    "        # Output layer\n",
    "        layers.append(nn.Linear(hidden_sizes[-1], output_size, bias=use_bias[-1]))\n",
    "\n",
    "        # Combine layers into a sequential model\n",
    "        self.model = nn.Sequential(*layers)\n",
    "\n",
    "    def forward(self, x):\n",
    "        return self.model(x)\n",
    "\n",
    "# Example usage:\n",
    "input_size = 28 * 28\n",
    "output_size = 10\n",
    "# hidden_sizes = [512, 256, 128, 64]\n",
    "hidden_sizes = [16, 16, 16, 16]\n",
    "num_layers = len(hidden_sizes)\n",
    "use_bias =[0, 0, 0, 0, 0]\n"
   ]
  },
  {
   "cell_type": "code",
   "execution_count": 5,
   "id": "a02541ad",
   "metadata": {},
   "outputs": [],
   "source": [
    "def reshape(original_list, rows=4, columns=16, add_size=10):\n",
    "    reshaped_list = [original_list[i:i + columns] for i in range(0, rows * columns, columns)]\n",
    "    add = original_list[-add_size:]\n",
    "    reshaped_list.append(add)\n",
    "    return reshaped_list\n",
    "\n"
   ]
  },
  {
   "cell_type": "markdown",
   "id": "a7ef8b94",
   "metadata": {},
   "source": [
    "# Loss cross entropy"
   ]
  },
  {
   "cell_type": "code",
   "execution_count": 6,
   "id": "40a5b2d8",
   "metadata": {},
   "outputs": [],
   "source": [
    "# # Define loss function and optimizer\n",
    "# criterion = nn.CrossEntropyLoss()\n",
    "# optimizer = optim.Adam(model.parameters(), lr=0.001)\n",
    "\n",
    "\n",
    "# # Training the model\n",
    "# num_epochs = 4  # Reduce the number of epochs for demonstration purposes\n",
    "# for epoch in range(num_epochs):\n",
    "#     for inputs, labels in train_loader:\n",
    "#         # Forward pass\n",
    "#         outputs = model(inputs.view(-1, 28 * 28))\n",
    "#         loss = criterion(outputs, labels)\n",
    "\n",
    "#         # Backward pass and optimization\n",
    "#         optimizer.zero_grad()\n",
    "#         loss.backward()\n",
    "#         optimizer.step()\n",
    "\n",
    "#     print(f'Epoch [{epoch+1}/{num_epochs}], Loss: {loss.item():.4f}')"
   ]
  },
  {
   "cell_type": "markdown",
   "id": "8ea251d8",
   "metadata": {},
   "source": [
    "# Loss MSE"
   ]
  },
  {
   "cell_type": "code",
   "execution_count": 7,
   "id": "a647cf17",
   "metadata": {},
   "outputs": [],
   "source": [
    "# Define Mean Squared Error (MSE) as the loss function\n",
    "def loss_back(model, num_epochs, criterion = nn.MSELoss(), lr=0.001):\n",
    "    \n",
    "    optimizer = optim.Adam(model.parameters(), lr=lr)\n",
    "    # Training the model\n",
    "    for epoch in range(num_epochs):\n",
    "        for inputs, labels in train_loader:\n",
    "            # Forward pass\n",
    "            \n",
    "            outputs = model(inputs.view(-1, 28 * 28))\n",
    "            # Convert labels to one-hot encoding for MSE\n",
    "            labels_one_hot = nn.functional.one_hot(labels, num_classes=10).float()\n",
    "\n",
    "            # Compute MSE loss\n",
    "            loss = criterion(outputs, labels_one_hot)\n",
    "\n",
    "            # Backward pass and optimization\n",
    "            optimizer.zero_grad()\n",
    "            loss.backward()\n",
    "            optimizer.step()\n",
    "        print(f'Epoch [{epoch+1}/{num_epochs}], Loss: {loss.item():.4f}')"
   ]
  },
  {
   "cell_type": "code",
   "execution_count": 8,
   "id": "ba7acc57",
   "metadata": {},
   "outputs": [
    {
     "name": "stdout",
     "output_type": "stream",
     "text": [
      "Epoch [1/12], Loss: 0.0755\n",
      "Epoch [2/12], Loss: 0.0543\n",
      "Epoch [3/12], Loss: 0.0444\n",
      "Epoch [4/12], Loss: 0.0330\n",
      "Epoch [5/12], Loss: 0.0332\n",
      "Epoch [6/12], Loss: 0.0275\n",
      "Epoch [7/12], Loss: 0.0158\n",
      "Epoch [8/12], Loss: 0.0113\n",
      "Epoch [9/12], Loss: 0.0171\n",
      "Epoch [10/12], Loss: 0.0216\n",
      "Epoch [11/12], Loss: 0.0179\n",
      "Epoch [12/12], Loss: 0.0054\n"
     ]
    }
   ],
   "source": [
    "# Create a customizable neural network\n",
    "model = CustomizableNN(input_size, output_size, hidden_sizes, num_layers, use_bias)\n",
    "loss_back(model, num_epochs=12, criterion = nn.MSELoss(), lr=0.001)"
   ]
  },
  {
   "cell_type": "markdown",
   "id": "7cb840db",
   "metadata": {},
   "source": [
    "# TEST"
   ]
  },
  {
   "cell_type": "code",
   "execution_count": 9,
   "id": "8b38ee6d",
   "metadata": {},
   "outputs": [
    {
     "name": "stdout",
     "output_type": "stream",
     "text": [
      "Test Accuracy: 92.16%\n"
     ]
    }
   ],
   "source": [
    "# Test the model\n",
    "model.eval()\n",
    "correct = 0\n",
    "total = 0\n",
    "\n",
    "with torch.no_grad():\n",
    "    for inputs, labels in test_loader:\n",
    "        outputs = model(inputs.view(-1, 28 * 28))\n",
    "        _, predicted = torch.max(outputs.data, 1)\n",
    "        total += labels.size(0)\n",
    "        correct += (predicted == labels).sum().item()\n",
    "\n",
    "accuracy = correct / total\n",
    "print(f'Test Accuracy: {accuracy * 100:.2f}%')"
   ]
  },
  {
   "cell_type": "markdown",
   "id": "5182bb27",
   "metadata": {},
   "source": [
    "# Estimated parameters"
   ]
  },
  {
   "cell_type": "code",
   "execution_count": 10,
   "id": "a15965e9",
   "metadata": {},
   "outputs": [
    {
     "name": "stdout",
     "output_type": "stream",
     "text": [
      "Layer: model.0.weight, Size: torch.Size([16, 784])\n",
      "Weights: torch.Size([16, 784])\n",
      "====================\n",
      "Layer: model.2.weight, Size: torch.Size([16, 16])\n",
      "Weights: torch.Size([16, 16])\n",
      "====================\n",
      "Layer: model.4.weight, Size: torch.Size([16, 16])\n",
      "Weights: torch.Size([16, 16])\n",
      "====================\n",
      "Layer: model.6.weight, Size: torch.Size([16, 16])\n",
      "Weights: torch.Size([16, 16])\n",
      "====================\n",
      "Layer: model.8.weight, Size: torch.Size([10, 16])\n",
      "Weights: torch.Size([10, 16])\n",
      "====================\n"
     ]
    }
   ],
   "source": [
    "# Print the result weights and biases of each layer\n",
    "for name, param in model.named_parameters():\n",
    "    print(f'Layer: {name}, Size: {param.size()}')\n",
    "    if 'weight' in name:\n",
    "        print(f'Weights: {param.data.size()}')\n",
    "    elif 'bias' in name:\n",
    "        print(f'Biases: {param.data.size()}')\n",
    "    print('='*20)"
   ]
  },
  {
   "cell_type": "markdown",
   "id": "c9ddf7d0",
   "metadata": {},
   "source": [
    "# Gradient loss of parameter"
   ]
  },
  {
   "cell_type": "code",
   "execution_count": 11,
   "id": "4d40f617",
   "metadata": {},
   "outputs": [
    {
     "name": "stdout",
     "output_type": "stream",
     "text": [
      "Layer: model.0.weight, Size: torch.Size([16, 784])\n",
      "====================\n",
      "Layer: model.2.weight, Size: torch.Size([16, 16])\n",
      "====================\n",
      "Layer: model.4.weight, Size: torch.Size([16, 16])\n",
      "====================\n",
      "Layer: model.6.weight, Size: torch.Size([16, 16])\n",
      "====================\n",
      "Layer: model.8.weight, Size: torch.Size([10, 16])\n",
      "====================\n"
     ]
    }
   ],
   "source": [
    "# Print the derivatives of the loss with respect to each parameter\n",
    "for name, param in model.named_parameters():\n",
    "    print(f'Layer: {name}, Size: {param.size()}')\n",
    "    #print(f'Gradient: {param.grad}')\n",
    "    print('='*20)"
   ]
  },
  {
   "cell_type": "markdown",
   "id": "5943ab15",
   "metadata": {},
   "source": [
    "# Fisher Information"
   ]
  },
  {
   "cell_type": "code",
   "execution_count": 12,
   "id": "a6c728e8",
   "metadata": {},
   "outputs": [],
   "source": [
    "def fisher_diagonal(model,i):\n",
    "    all_gradients_weight = [param.grad for name, param in model.named_parameters() if \"weight\" in name ]\n",
    "    all_gradients_bias = [param.grad for name, param in model.named_parameters() if \"bias\" in name ]\n",
    "    grad_vector_weight_hidden = torch.cat([g.contiguous().view(-1) for g in all_gradients_weight[1:-1]])\n",
    "    grad_vector_weight_output = torch.cat([g.contiguous().view(-1) for g in all_gradients_weight[-1][i]])\n",
    "    grad_vector_weight = torch.cat([grad_vector_weight_hidden, grad_vector_weight_output],0)\n",
    "    if len(all_gradients_bias) > 0:\n",
    "        grad_vector_bias_hidden = torch.cat([g.contiguous().view(-1) for g in all_gradients_bias[:-1]])\n",
    "        grad_vector_bias_output = torch.cat([g.contiguous().view(-1) for g in all_gradients_bias[-1]])\n",
    "        grad_vector_bias = torch.cat([grad_vector_bias_hidden, grad_vector_bias_output],0)\n",
    "        grad_vector = torch.cat([grad_vector_weight,grad_vector_bias],0)\n",
    "    else:\n",
    "        grad_vector = grad_vector_weight\n",
    "    grad_vector = grad_vector.view(-1, 1)\n",
    "#         for param, gradient in zip(model.parameters(), all_gradients):\n",
    "#             print(f\"Gradient of loss w.r.t. {param[i]}:\")\n",
    "#             print(gradient)\n",
    "#             print()\n",
    "#         print('='*20)\n",
    "#         print(grad_vector)\n",
    "    G=torch.transpose(grad_vector,0,1)\n",
    "    F=torch.matmul(grad_vector,G)\n",
    "    return F,G,grad_vector"
   ]
  },
  {
   "cell_type": "markdown",
   "id": "8f7a79bf",
   "metadata": {},
   "source": [
    "# Process the output and labels as probability."
   ]
  },
  {
   "cell_type": "code",
   "execution_count": 13,
   "id": "5fb25b37",
   "metadata": {},
   "outputs": [],
   "source": [
    "def prob(outputs,labels):\n",
    "    # re-probability outputs\n",
    "    mini, _ = torch.min(outputs.data, 1)\n",
    "\n",
    "    re_outputs = outputs-mini.view(-1, 1)\n",
    "    re_outputs_p = re_outputs/torch.sum(re_outputs,1).view(-1, 1)\n",
    "    \n",
    "    # re-probability labels\n",
    "    _, predicted = torch.max(outputs.data, 1)\n",
    "    num_elements = labels.numel()\n",
    "    identity_matrix = torch.eye(10)\n",
    "    re_labels_p = nn.functional.one_hot(labels, num_classes=10).float()\n",
    "#     re_labels_p = identity_matrix[labels] # set probability of labels\n",
    "    return re_outputs_p, re_labels_p"
   ]
  },
  {
   "cell_type": "markdown",
   "id": "ab8c8375",
   "metadata": {},
   "source": [
    "# Confidence interval and Predictive interval"
   ]
  },
  {
   "cell_type": "code",
   "execution_count": 14,
   "id": "abd6c746",
   "metadata": {},
   "outputs": [],
   "source": [
    "def confi_pred_interval(inputs, labels, model, a=0.05):\n",
    "    \"\"\"\n",
    "    Function:\n",
    "    - Calculate the confidence interval and predictive interval of results\n",
    "    Input:\n",
    "    - inout: The input of data\n",
    "    - label: The label of handwriting input\n",
    "    - model: The trained neural network\n",
    "    - a: significant level\n",
    "    Returns:\n",
    "    - c: the size of confidence interval\n",
    "    - c_p: the list of confidence interval for each kinds label {0,1,...,9}\n",
    "    - mu: the estimate output\n",
    "    - y_p: the list of predictive interval for each kinds label {0,1,...,9}\n",
    "    \"\"\"\n",
    "    Z= norm.ppf(1 - a / 2)\n",
    "    c = torch.tensor([])\n",
    "    c_p = torch.tensor([])\n",
    "    outputs = model(inputs.view(-1, 28 * 28))\n",
    "    re_outputs_p, re_labels_p = prob(outputs,labels)\n",
    "   \n",
    "    # loss for CI\n",
    "    mu = torch.mean(re_outputs_p,dim=0) # mean of estimator of y\n",
    "    #loss = (torch.sum((re_outputs_p-re_labels_p)**2,1)/2)\n",
    "    loss = (torch.mean((re_outputs_p-re_labels_p),dim=0)**2)\n",
    "    # loss for PI\n",
    "    y_p = torch.mean(re_labels_p,dim=0)\n",
    "    loss_p = (torch.sum((re_outputs_p-y_p)**2,1)/2)\n",
    "\n",
    "    for i in range(10):\n",
    "        print(f\"number:{i}\")\n",
    "        print('='*20)\n",
    "        F, G, grad_vector = fisher_diagonal(model,i)\n",
    "        H=torch.pinverse(F) #use the pseudo-inverse \n",
    "        w=torch.mm(G,H)\n",
    "        w=torch.mm(w,grad_vector)\n",
    "        print(w)\n",
    "        \n",
    "        \n",
    "        # CI\n",
    "#         sigma_epsilon_squared = loss[i]/len(labels)\n",
    "        sigma_epsilon_squared = 1/4*loss[i]\n",
    "        sigma=torch.sqrt(w*sigma_epsilon_squared)\n",
    "        ci=sigma*Z\n",
    "        CI= torch.cat([mu[i] - ci, mu[i] + ci],1)\n",
    "        c = torch.cat([c, CI.unsqueeze(0)], 1) #combing the CI as squence\n",
    "        \n",
    "        # PI\n",
    "        sigma_epsilon_squared_p = loss_p[i]/len(labels)\n",
    "        sigma_p=torch.sqrt(sigma_epsilon_squared_p)\n",
    "        ci_p=sigma_p*Z\n",
    "        ci_p_list=[mu[i] - ci_p, mu[i] + ci_p]\n",
    "        ci_p_list=[tensor.view(1, 1) for tensor in ci_p_list]\n",
    "        CI_p= torch.cat(ci_p_list,1)\n",
    "        c_p = torch.cat([c_p, CI_p.unsqueeze(0)], 1) #combing the CI as squence\n",
    "#         print('='*20)\n",
    "#         print(f\"fisher information matrix:{F}\")\n",
    "#         print(f\"Inverse hessian:{H}\")\n",
    "#         print(f\"mean of estimator probability:{mu[i]}\")\n",
    "        print(f\"interva size:{ci}\")\n",
    "        print(f\"p interva size:{ci_p}\")\n",
    "#         print(c)\n",
    "    return c, c_p, mu, y_p"
   ]
  },
  {
   "cell_type": "code",
   "execution_count": 15,
   "id": "0c86dcf2",
   "metadata": {},
   "outputs": [
    {
     "name": "stdout",
     "output_type": "stream",
     "text": [
      "number:0\n",
      "====================\n",
      "tensor([[1.2452]])\n",
      "interva size:tensor([[0.0031]], grad_fn=<MulBackward0>)\n",
      "p interva size:0.14025366306304932\n",
      "number:1\n",
      "====================\n",
      "tensor([[1.3291]])\n",
      "interva size:tensor([[0.0153]], grad_fn=<MulBackward0>)\n",
      "p interva size:0.12582425773143768\n",
      "number:2\n",
      "====================\n",
      "tensor([[1.1548]])\n",
      "interva size:tensor([[0.0042]], grad_fn=<MulBackward0>)\n",
      "p interva size:0.1040041521191597\n",
      "number:3\n",
      "====================\n",
      "tensor([[0.3734]])\n",
      "interva size:tensor([[0.0074]], grad_fn=<MulBackward0>)\n",
      "p interva size:0.1381698101758957\n",
      "number:4\n",
      "====================\n",
      "tensor([[1.0751]])\n",
      "interva size:tensor([[0.0056]], grad_fn=<MulBackward0>)\n",
      "p interva size:0.13243886828422546\n",
      "number:5\n",
      "====================\n",
      "tensor([[2.1461]])\n",
      "interva size:tensor([[0.0233]], grad_fn=<MulBackward0>)\n",
      "p interva size:0.11980225890874863\n",
      "number:6\n",
      "====================\n",
      "tensor([[0.9738]])\n",
      "interva size:tensor([[0.0060]], grad_fn=<MulBackward0>)\n",
      "p interva size:0.1149463802576065\n",
      "number:7\n",
      "====================\n",
      "tensor([[0.1808]])\n",
      "interva size:tensor([[0.0030]], grad_fn=<MulBackward0>)\n",
      "p interva size:0.13944020867347717\n",
      "number:8\n",
      "====================\n",
      "tensor([[1.7689]])\n",
      "interva size:tensor([[0.0385]], grad_fn=<MulBackward0>)\n",
      "p interva size:0.06037624925374985\n",
      "number:9\n",
      "====================\n",
      "tensor([[1.6955]])\n",
      "interva size:tensor([[0.0096]], grad_fn=<MulBackward0>)\n",
      "p interva size:0.1292189657688141\n"
     ]
    }
   ],
   "source": [
    "for inputs, labels in test_loader:\n",
    "    \n",
    "    c, c_p, mu, y_p= confi_pred_interval(inputs, labels, model, a=0.05)\n",
    "    break"
   ]
  },
  {
   "cell_type": "code",
   "execution_count": 16,
   "id": "499caae1",
   "metadata": {},
   "outputs": [
    {
     "data": {
      "image/png": "[encoded data removed]",
      "text/plain": [
       "<Figure size 640x480 with 1 Axes>"
      ]
     },
     "metadata": {},
     "output_type": "display_data"
    }
   ],
   "source": [
    "x_np = range(1, 11)\n",
    "mu_np = mu.detach().numpy()\n",
    "c_np = c.detach().numpy()\n",
    "c_p_np = c_p.detach().numpy()\n",
    "y_np = y_p.detach().numpy()\n",
    "# Plotting with conditional formatting\n",
    "plt.plot(x_np, mu_np, 'o-', label='estimated y pro')\n",
    "plt.plot(x_np, y_np, 's-', label='true y pro')\n",
    "plt.plot(x_np, c_np[0,:,0], '-', label='CI down', color='green')\n",
    "plt.plot(x_np, c_np[0,:,1], '-', label='CI up',color='green')\n",
    "# plt.plot(x_np, c_p_np[0,:,0], '-', label='CI_p down', color='red')\n",
    "# plt.plot(x_np, c_p_np[0,:,1], '-', label='CI_p up', color='red')\n",
    "plt.xlabel('x')\n",
    "plt.ylabel('y')\n",
    "plt.legend()\n",
    "\n",
    "plt.show()\n"
   ]
  },
  {
   "cell_type": "markdown",
   "id": "cb7fffc1",
   "metadata": {},
   "source": [
    "# Building NN (bias=unknown)"
   ]
  },
  {
   "cell_type": "code",
   "execution_count": 38,
   "id": "55242a20",
   "metadata": {},
   "outputs": [],
   "source": [
    "model_adj = CustomizableNN(input_size, output_size, hidden_sizes, num_layers, use_bias = [True,True,True,True,True] )"
   ]
  },
  {
   "cell_type": "code",
   "execution_count": 39,
   "id": "7b4eb550",
   "metadata": {},
   "outputs": [
    {
     "name": "stdout",
     "output_type": "stream",
     "text": [
      "Epoch [1/12], Loss: 0.0806\n",
      "Epoch [2/12], Loss: 0.0600\n",
      "Epoch [3/12], Loss: 0.0382\n",
      "Epoch [4/12], Loss: 0.0381\n",
      "Epoch [5/12], Loss: 0.0355\n",
      "Epoch [6/12], Loss: 0.0209\n",
      "Epoch [7/12], Loss: 0.0182\n",
      "Epoch [8/12], Loss: 0.0223\n",
      "Epoch [9/12], Loss: 0.0085\n",
      "Epoch [10/12], Loss: 0.0086\n",
      "Epoch [11/12], Loss: 0.0134\n",
      "Epoch [12/12], Loss: 0.0090\n"
     ]
    }
   ],
   "source": [
    "loss_back(model_adj, num_epochs=12, criterion = nn.MSELoss(), lr=0.001)"
   ]
  },
  {
   "cell_type": "code",
   "execution_count": 40,
   "id": "c6701231",
   "metadata": {},
   "outputs": [
    {
     "name": "stdout",
     "output_type": "stream",
     "text": [
      "Layer: model.0.weight, Size: torch.Size([16, 784])\n",
      "Weights: torch.Size([16, 784])\n",
      "====================\n",
      "Layer: model.0.bias, Size: torch.Size([16])\n",
      "Biases: torch.Size([16])\n",
      "====================\n",
      "Layer: model.2.weight, Size: torch.Size([16, 16])\n",
      "Weights: torch.Size([16, 16])\n",
      "====================\n",
      "Layer: model.2.bias, Size: torch.Size([16])\n",
      "Biases: torch.Size([16])\n",
      "====================\n",
      "Layer: model.4.weight, Size: torch.Size([16, 16])\n",
      "Weights: torch.Size([16, 16])\n",
      "====================\n",
      "Layer: model.4.bias, Size: torch.Size([16])\n",
      "Biases: torch.Size([16])\n",
      "====================\n",
      "Layer: model.6.weight, Size: torch.Size([16, 16])\n",
      "Weights: torch.Size([16, 16])\n",
      "====================\n",
      "Layer: model.6.bias, Size: torch.Size([16])\n",
      "Biases: torch.Size([16])\n",
      "====================\n",
      "Layer: model.8.weight, Size: torch.Size([10, 16])\n",
      "Weights: torch.Size([10, 16])\n",
      "====================\n",
      "Layer: model.8.bias, Size: torch.Size([10])\n",
      "Biases: torch.Size([10])\n",
      "====================\n"
     ]
    }
   ],
   "source": [
    "# Print the result weights and biases of each layer\n",
    "for name, param in model_adj.named_parameters():\n",
    "    print(f'Layer: {name}, Size: {param.size()}')\n",
    "    if 'weight' in name:\n",
    "        print(f'Weights: {param.data.size()}')\n",
    "    elif 'bias' in name:\n",
    "        print(f'Biases: {param.data.size()}')\n",
    "    print('='*20)"
   ]
  },
  {
   "cell_type": "code",
   "execution_count": 41,
   "id": "d04e6643",
   "metadata": {},
   "outputs": [
    {
     "name": "stdout",
     "output_type": "stream",
     "text": [
      "Layer: model.0.weight, Size: torch.Size([16, 784])\n",
      "====================\n",
      "Layer: model.0.bias, Size: torch.Size([16])\n",
      "====================\n",
      "Layer: model.2.weight, Size: torch.Size([16, 16])\n",
      "====================\n",
      "Layer: model.2.bias, Size: torch.Size([16])\n",
      "====================\n",
      "Layer: model.4.weight, Size: torch.Size([16, 16])\n",
      "====================\n",
      "Layer: model.4.bias, Size: torch.Size([16])\n",
      "====================\n",
      "Layer: model.6.weight, Size: torch.Size([16, 16])\n",
      "====================\n",
      "Layer: model.6.bias, Size: torch.Size([16])\n",
      "====================\n",
      "Layer: model.8.weight, Size: torch.Size([10, 16])\n",
      "====================\n",
      "Layer: model.8.bias, Size: torch.Size([10])\n",
      "====================\n"
     ]
    }
   ],
   "source": [
    "# Print the derivatives of the loss with respect to each parameter\n",
    "for name, param in model_adj.named_parameters():\n",
    "    print(f'Layer: {name}, Size: {param.size()}')\n",
    "#     print(f'Gradient: {param.grad}')\n",
    "    print('='*20)"
   ]
  },
  {
   "cell_type": "markdown",
   "id": "327b0cfe",
   "metadata": {},
   "source": [
    "# Numerical way to calculate $\\frac{\\partial s}{\\partial \\alpha}$"
   ]
  },
  {
   "cell_type": "code",
   "execution_count": 42,
   "id": "45500fd8",
   "metadata": {},
   "outputs": [],
   "source": [
    "def numerical_derivative(model,NN, bias, j,epsilon):\n",
    "    \"\"\"\n",
    "    Function:\n",
    "    -Numerically approximate the derivative of a function f at point x using finite differences.\n",
    "    Input:\n",
    "    - model:the Neural network model\n",
    "    - bias: The bias list for \n",
    "    - i: The index of target output\n",
    "    - j: The index of target bias to derivative\n",
    "    Returns:\n",
    "    - derivative for parameter y[i]\n",
    "    \"\"\"\n",
    "    derivative = torch.tensor([])\n",
    "    bias_plus_epsilon = bias\n",
    "    bias_minus_epsilon = bias\n",
    "    bias_plus_epsilon[j] = bias[j] + epsilon\n",
    "    bias_minus_epsilon[j] = bias[j] - epsilon\n",
    "    bias_plus = reshape(bias_plus_epsilon)\n",
    "    bias_minus = reshape(bias_minus_epsilon)\n",
    "    model_up = NN(input_size, output_size, hidden_sizes, num_layers, bias_plus)\n",
    "    model_down = NN(input_size, output_size, hidden_sizes, num_layers, bias_minus)\n",
    "    print(\"backforward up\")\n",
    "    loss_back(model_up, num_epochs=1, lr=0.001)\n",
    "    print(\"backforward down\")\n",
    "    loss_back(model_down, num_epochs=1, lr=0.001)\n",
    "    \n",
    "    for i in range(10):\n",
    "        all_gradients_bias_up = [param.grad for name, param in model_up.named_parameters() if \"weight\" in name ]\n",
    "        grad_vector_bias_hidden_up = torch.cat([g.contiguous().view(-1) for g in all_gradients_bias_up[1:-1]])\n",
    "        grad_vector_bias_output_up = torch.cat([g.contiguous().view(-1) for g in all_gradients_bias_up[-1][i]])\n",
    "        grad_vector_bias_up = torch.cat([grad_vector_bias_hidden_up, grad_vector_bias_output_up],0)\n",
    "        grad_vector_bias_up = grad_vector_bias_up.view(-1, 1)\n",
    "        \n",
    "        all_gradients_bias_down = [param.grad for name, param in model_down.named_parameters() if \"weight\" in name ]\n",
    "        grad_vector_bias_hidden_down = torch.cat([g.contiguous().view(-1) for g in all_gradients_bias_down[1:-1]])\n",
    "        grad_vector_bias_output_down = torch.cat([g.contiguous().view(-1) for g in all_gradients_bias_down[-1][i]])\n",
    "        grad_vector_bias_down = torch.cat([grad_vector_bias_hidden_down, grad_vector_bias_output_down],0)\n",
    "        grad_vector_bias_down = grad_vector_bias_down.view(-1, 1)\n",
    "        \n",
    "        each_derivative = (grad_vector_bias_up-grad_vector_bias_down)/ 2 * epsilon\n",
    "        derivative = torch.cat([derivative, each_derivative.unsqueeze(0)], 0)\n",
    "    \n",
    "    return derivative\n",
    "    "
   ]
  },
  {
   "cell_type": "code",
   "execution_count": 43,
   "id": "0f924647",
   "metadata": {},
   "outputs": [],
   "source": [
    "def derivative_whole(use_bias, epsilon=1e-6):\n",
    "    dS_da_whole = torch.tensor([])\n",
    "    for j in range(len(use_bias)):\n",
    "        detrivate = numerical_derivative(model,CustomizableNN, deepcopy(use_bias), j,epsilon)\n",
    "        dS_da_whole = torch.cat([dS_da_whole, detrivate], -1)\n",
    "    return dS_da_whole"
   ]
  },
  {
   "cell_type": "code",
   "execution_count": 44,
   "id": "e35ce2a0",
   "metadata": {},
   "outputs": [],
   "source": [
    "# dS_da_whole=derivative_whole(use_bias=[0 for _ in range(4*16+1*10)])"
   ]
  },
  {
   "cell_type": "code",
   "execution_count": 45,
   "id": "5ee15491",
   "metadata": {},
   "outputs": [],
   "source": [
    "# torch.save(dS_da_whole, 'dS_da_whole_tensor_epoch1.pt')\n",
    "loaded_tensor_epoch1 = torch.load('dS_da_whole_tensor_epoch1.pt')\n",
    "dS_da_whole_epoch1 = loaded_tensor_epoch1"
   ]
  },
  {
   "cell_type": "code",
   "execution_count": 46,
   "id": "b8705559",
   "metadata": {},
   "outputs": [],
   "source": [
    "# torch.save(dS_da_whole, 'dS_da_whole_tensor.pt')\n",
    "loaded_tensor = torch.load('dS_da_whole_tensor.pt')\n",
    "dS_da_whole = loaded_tensor"
   ]
  },
  {
   "cell_type": "markdown",
   "id": "3b130fce",
   "metadata": {},
   "source": [
    "# Estimate Var($\\alpha$):\n",
    "estimate bias for each batch, and use Bayesian way to estimate variance of each bias parameter"
   ]
  },
  {
   "cell_type": "code",
   "execution_count": 47,
   "id": "a36fa6e7",
   "metadata": {
    "scrolled": false
   },
   "outputs": [],
   "source": [
    "# Store estimated bias terms for each batch\n",
    "model_va = CustomizableNN(input_size, output_size, hidden_sizes, num_layers, use_bias = [True,True,True,True,True] )\n",
    "estimated_bias_per_batch = []\n",
    "criterion = nn.MSELoss()\n",
    "optimizer = optim.Adam(model_va.parameters(), lr=0.001)  \n",
    "# Training loop\n",
    "i=0\n",
    "for inputs, labels in train_loader:\n",
    "    i+=1\n",
    "    # Training the model\n",
    "    # Zero the gradients\n",
    "    optimizer.zero_grad()\n",
    "    for epoch in range(5):\n",
    "            outputs = model_va(inputs.view(-1, 28 * 28))\n",
    "            labels_one_hot = nn.functional.one_hot(labels, num_classes=10).float()\n",
    "            loss = criterion(outputs, labels_one_hot)\n",
    "\n",
    "            # Backward pass and optimization\n",
    "            optimizer.zero_grad()\n",
    "            loss.backward()\n",
    "            optimizer.step()\n",
    "    \n",
    "    estimated_bias_per_layer = [param.detach().numpy() for name, param in model_va.named_parameters() if 'bias' in name]\n",
    "    estimated_bias_per_layer =np.concatenate(estimated_bias_per_layer).tolist()\n",
    "    estimated_bias_per_batch.append(estimated_bias_per_layer)\n",
    "\n"
   ]
  },
  {
   "cell_type": "code",
   "execution_count": 48,
   "id": "74f445e0",
   "metadata": {},
   "outputs": [],
   "source": [
    "data_list = [per_batch[0] for per_batch in estimated_bias_per_batch]\n",
    "data = torch.tensor(data_list, dtype=torch.float32)"
   ]
  },
  {
   "cell_type": "code",
   "execution_count": 49,
   "id": "1e216ca4",
   "metadata": {},
   "outputs": [],
   "source": [
    "def variance(data):\n",
    "    # Define the Bayesian linear regression model\n",
    "    class BayesianLinearRegression(nn.Module):\n",
    "        def __init__(self):\n",
    "            super(BayesianLinearRegression, self).__init__()\n",
    "            self.mean_weight = nn.Parameter(torch.randn(1))\n",
    "            self.log_variance_weight = nn.Parameter(torch.randn(1))\n",
    "\n",
    "        def forward(self, x):\n",
    "            mean = x * self.mean_weight\n",
    "            variance = torch.exp(self.log_variance_weight)\n",
    "            return Normal(mean, variance.sqrt())\n",
    "\n",
    "    # Instantiate the model and set up optimization\n",
    "    model_B = BayesianLinearRegression()\n",
    "    optimizer = optim.Adam(model_B.parameters(), lr=0.01)\n",
    "\n",
    "    # Training loop for Bayesian inference\n",
    "    num_epochs = 1000\n",
    "    for epoch in range(num_epochs):\n",
    "        optimizer.zero_grad()\n",
    "        likelihood = model_B(data)\n",
    "        loss = -likelihood.log_prob(data).sum()  # Negative log likelihood as loss\n",
    "        loss.backward()\n",
    "        optimizer.step()\n",
    "\n",
    "    # Get the estimated variance from the model\n",
    "    estimated_variance = torch.exp(model_B.log_variance_weight).item()\n",
    "    return estimated_variance"
   ]
  },
  {
   "cell_type": "code",
   "execution_count": 50,
   "id": "bf41078e",
   "metadata": {},
   "outputs": [],
   "source": [
    "V = []\n",
    "for i in range(len(estimated_bias_per_batch[1])):\n",
    "    data_list = [per_batch[i] for per_batch in estimated_bias_per_batch]\n",
    "    data = torch.tensor(data_list, dtype=torch.float32)\n",
    "    var = variance(data)\n",
    "    V.append(var)\n",
    "V = torch.tensor(V)   "
   ]
  },
  {
   "cell_type": "code",
   "execution_count": 51,
   "id": "3ef910c9",
   "metadata": {},
   "outputs": [],
   "source": [
    "# import numpy as np\n",
    "# datasets=[]\n",
    "# for i in range(len(estimated_bias_per_batch[1])):\n",
    "#     data_list = [per_batch[i] for per_batch in estimated_bias_per_batch]\n",
    "#     datasets.append(data_list)\n",
    "# covariance_matrix = np.cov(datasets)\n",
    "\n",
    "# print(\"Covariance Matrix:\")\n",
    "# print(covariance_matrix)\n",
    "# V=covariance_matrix\n",
    "# def Adjust(model_adj,num_layers,dS_da_whole_epoch1,V):\n",
    "#     Adj = torch.tensor([])\n",
    "#     for i in range(10):\n",
    "#         F, G, grad_vector = fisher_diagonal(model_adj,i)\n",
    "#         F_in= torch.pinverse(F)\n",
    "#         r = len(F)\n",
    "#         l = sum(hidden_sizes)+10\n",
    "#         n = len(train_loader)\n",
    "# #         Va = torch.diag(V, diagonal=0)\n",
    "# #         Va = torch.diag(torch.tensor([1] * l), diagonal=0)\n",
    "\n",
    "#         Va = torch.tensor(V, dtype=torch.float32)\n",
    "#         Vo = F_in[0:r-l,0:r-l]\n",
    "#         print(Vo)\n",
    "#         dS_da = dS_da_whole[i,:,:]\n",
    "#         D = torch.mm(Vo,dS_da)\n",
    "#         D_t = torch.transpose(D,0,1)\n",
    "#         if D.dtype != Va.dtype:\n",
    "#             Va = Va.to(D.dtype)\n",
    "#         A = torch.mm(D,Va)\n",
    "#         A = torch.mm(A,D_t)\n",
    "#         Adj = torch.cat([Adj, A.unsqueeze(0)], 0)\n",
    "#     return Adj"
   ]
  },
  {
   "cell_type": "markdown",
   "id": "114b46b1",
   "metadata": {},
   "source": [
    "# Adjustment term"
   ]
  },
  {
   "cell_type": "code",
   "execution_count": 52,
   "id": "bafa1398",
   "metadata": {},
   "outputs": [],
   "source": [
    "def Adjust(model_adj,num_layers,dS_da_whole_epoch1,V):\n",
    "    Adj = torch.tensor([])\n",
    "    for i in range(10):\n",
    "        F, G, grad_vector = fisher_diagonal(model_adj,i)\n",
    "        F_in= torch.pinverse(F)\n",
    "        r = len(F)\n",
    "        l = 74\n",
    "        n = len(train_loader)\n",
    "        Va = torch.diag(V, diagonal=0)\n",
    "#         Va = torch.diag(torch.tensor([1] * l), diagonal=0)\n",
    "        Vo = F_in[0:r-l,0:r-l]\n",
    "        dS_da = dS_da_whole[i,:,:]\n",
    "        D = torch.mm(Vo,dS_da)\n",
    "        D_t = torch.transpose(D,0,1)\n",
    "        if D.dtype != Va.dtype:\n",
    "            Va = Va.to(D.dtype)\n",
    "        A = torch.mm(D,Va)\n",
    "        A = torch.mm(A,D_t)\n",
    "        Adj = torch.cat([Adj, A.unsqueeze(0)], 0)\n",
    "    return Adj"
   ]
  },
  {
   "cell_type": "code",
   "execution_count": 53,
   "id": "89c49568",
   "metadata": {},
   "outputs": [],
   "source": [
    "Adj= Adjust(model_adj,num_layers,dS_da_whole,V)"
   ]
  },
  {
   "cell_type": "code",
   "execution_count": 54,
   "id": "e80663a0",
   "metadata": {},
   "outputs": [],
   "source": [
    "def adj_confi_pred_interval(inputs, labels, model,Adj, a=0.05):\n",
    "    Z= norm.ppf(1 - a / 2)\n",
    "    c = torch.tensor([])\n",
    "    c_p = torch.tensor([])\n",
    "    outputs = model(inputs.view(-1, 28 * 28))\n",
    "    re_outputs_p, re_labels_p = prob(outputs,labels)\n",
    "    \n",
    "    # loss for CI\n",
    "    mu = torch.mean(re_outputs_p,dim=0) # mean of estimator of y\n",
    "#     loss = (torch.sum((re_outputs_p-re_labels_p)**2,1)/2)\n",
    "    loss = (torch.mean((re_outputs_p-re_labels_p),dim=0)**2)\n",
    "    # loss for PI\n",
    "    y_p = torch.mean(re_labels_p,dim=0)\n",
    "    loss_p = (torch.sum((re_outputs_p-y_p)**2,1)/2)\n",
    "    \n",
    "    for i in range(10):\n",
    "        print(f\"number:{i}\")\n",
    "        print('='*20)\n",
    "        F, G, grad_vector = fisher_diagonal(model,i)\n",
    "        H = torch.pinverse(F) #use the pseudo-inverse \n",
    "        H = H + Adj[i]\n",
    "        w = torch.mm(G,H)\n",
    "        w = torch.mm(w,grad_vector)\n",
    "\n",
    "        # CI\n",
    "#         sigma_epsilon_squared = loss[i]/len(labels)\n",
    "        sigma_epsilon_squared = 1/4*loss[i]\n",
    "        sigma=torch.sqrt(w*sigma_epsilon_squared)\n",
    "        ci=sigma*Z\n",
    "        CI= torch.cat([mu[i] - ci, mu[i] + ci],1)\n",
    "        c = torch.cat([c, CI.unsqueeze(0)], 1) #combing the CI as squence\n",
    "        print(ci)\n",
    "        \n",
    "        # PI\n",
    "        sigma_epsilon_squared_p = loss_p[i]/len(labels)\n",
    "        sigma_p=torch.sqrt(sigma_epsilon_squared_p)\n",
    "        ci_p=sigma_p*Z\n",
    "        ci_p_list=[mu[i] - ci_p, mu[i] + ci_p]\n",
    "        ci_p_list=[tensor.view(1, 1) for tensor in ci_p_list]\n",
    "        CI_p= torch.cat(ci_p_list,1)\n",
    "        c_p = torch.cat([c_p, CI_p.unsqueeze(0)], 1) #combing the CI as squence\n",
    "#         print('='*20)\n",
    "#         print(f\"fisher information matrix:{F}\")\n",
    "#         print(f\"Inverse hessian:{H}\")\n",
    "#         print(f\"mean of estimator probability:{mu[i]}\")\n",
    "#         print(f\"interva size:{ci}\")\n",
    "#         print(f\"p interva size:{ci_p}\")\n",
    "#         print(c)\n",
    "    return c, c_p, mu, y_p"
   ]
  },
  {
   "cell_type": "code",
   "execution_count": 55,
   "id": "b36be881",
   "metadata": {},
   "outputs": [
    {
     "name": "stdout",
     "output_type": "stream",
     "text": [
      "sample sizetorch.Size([6400, 1, 28, 28])\n",
      "number:0\n",
      "====================\n",
      "tensor([[0.0021]], grad_fn=<MulBackward0>)\n",
      "number:1\n",
      "====================\n",
      "tensor([[0.0016]], grad_fn=<MulBackward0>)\n",
      "number:2\n",
      "====================\n",
      "tensor([[0.0059]], grad_fn=<MulBackward0>)\n",
      "number:3\n",
      "====================\n",
      "tensor([[0.0075]], grad_fn=<MulBackward0>)\n",
      "number:4\n",
      "====================\n",
      "tensor([[0.0234]], grad_fn=<MulBackward0>)\n",
      "number:5\n",
      "====================\n",
      "tensor([[0.0001]], grad_fn=<MulBackward0>)\n",
      "number:6\n",
      "====================\n",
      "tensor([[0.0029]], grad_fn=<MulBackward0>)\n",
      "number:7\n",
      "====================\n",
      "tensor([[0.0019]], grad_fn=<MulBackward0>)\n",
      "number:8\n",
      "====================\n",
      "tensor([[0.0163]], grad_fn=<MulBackward0>)\n",
      "number:9\n",
      "====================\n",
      "tensor([[0.0117]], grad_fn=<MulBackward0>)\n",
      "number:0\n",
      "====================\n",
      "tensor([[1.2452]])\n",
      "interva size:tensor([[0.0021]], grad_fn=<MulBackward0>)\n",
      "p interva size:0.01603439822793007\n",
      "number:1\n",
      "====================\n",
      "tensor([[1.3291]])\n",
      "interva size:tensor([[0.0016]], grad_fn=<MulBackward0>)\n",
      "p interva size:0.013766017742455006\n",
      "number:2\n",
      "====================\n",
      "tensor([[1.1548]])\n",
      "interva size:tensor([[0.0059]], grad_fn=<MulBackward0>)\n",
      "p interva size:0.012786850333213806\n",
      "number:3\n",
      "====================\n",
      "tensor([[0.3734]])\n",
      "interva size:tensor([[0.0075]], grad_fn=<MulBackward0>)\n",
      "p interva size:0.015577085316181183\n",
      "number:4\n",
      "====================\n",
      "tensor([[1.0751]])\n",
      "interva size:tensor([[0.0231]], grad_fn=<MulBackward0>)\n",
      "p interva size:0.01617884449660778\n",
      "number:5\n",
      "====================\n",
      "tensor([[2.1461]])\n",
      "interva size:tensor([[0.0001]], grad_fn=<MulBackward0>)\n",
      "p interva size:0.01455695927143097\n",
      "number:6\n",
      "====================\n",
      "tensor([[0.9738]])\n",
      "interva size:tensor([[0.0029]], grad_fn=<MulBackward0>)\n",
      "p interva size:0.014160207472741604\n",
      "number:7\n",
      "====================\n",
      "tensor([[0.1808]])\n",
      "interva size:tensor([[0.0019]], grad_fn=<MulBackward0>)\n",
      "p interva size:0.01594213768839836\n",
      "number:8\n",
      "====================\n",
      "tensor([[1.7689]])\n",
      "interva size:tensor([[0.0163]], grad_fn=<MulBackward0>)\n",
      "p interva size:0.006191524676978588\n",
      "number:9\n",
      "====================\n",
      "tensor([[1.6955]])\n",
      "interva size:tensor([[0.0116]], grad_fn=<MulBackward0>)\n",
      "p interva size:0.01480652391910553\n"
     ]
    }
   ],
   "source": [
    "import torch\n",
    "\n",
    "# Initialize empty lists to accumulate data\n",
    "X_list = []\n",
    "y_list = []\n",
    "i=0\n",
    "# Iterate over the batches in the test_loader\n",
    "for inputs, labels in test_loader:\n",
    "    i+=1\n",
    "    # Append the batch data to the lists\n",
    "    X_list.append(inputs)\n",
    "    y_list.append(labels)\n",
    "    if i==100:\n",
    "        break\n",
    "# Concatenate the lists to create a single dataset pair\n",
    "X = torch.cat(X_list, dim=0)\n",
    "y = torch.cat(y_list, dim=0)\n",
    "print(f\"sample size{X.size()}\")\n",
    "adj_c, adj_c_p, mu, y_p= adj_confi_pred_interval(X, y, model, Adj, a=0.025)\n",
    "c, c_p, mu, y_p= confi_pred_interval(X, y, model, a=0.025)\n"
   ]
  },
  {
   "cell_type": "code",
   "execution_count": 59,
   "id": "e316f145",
   "metadata": {},
   "outputs": [
    {
     "data": {
      "image/png": "[encoded data removed]",
      "text/plain": [
       "<Figure size 640x480 with 1 Axes>"
      ]
     },
     "metadata": {},
     "output_type": "display_data"
    }
   ],
   "source": [
    "x_np = range(0, 10)\n",
    "mu_np = mu.detach().numpy()\n",
    "c_np = c.detach().numpy()\n",
    "c_p_np = c_p.detach().numpy()\n",
    "adj_c_np = adj_c.detach().numpy()\n",
    "adj_c_p_np = adj_c_p.detach().numpy()\n",
    "y_np = y_p.detach().numpy()\n",
    "# Plotting with conditional formatting\n",
    "plt.plot(x_np, mu_np, 'o-', label='estimated probability of label')\n",
    "plt.plot(x_np, y_np, 's-', label='true probability of label')\n",
    "plt.plot(x_np, c_np[0,:,0], '-', label='CI', color='green')\n",
    "plt.plot(x_np, c_np[0,:,1], '-',color='green')\n",
    "plt.plot(x_np, adj_c_np[0,:,0], '-', label='adjusted CI', color='red')\n",
    "plt.plot(x_np, adj_c_np[0,:,1], '-',color='red')\n",
    "plt.xlim(0, 9)\n",
    "plt.ylim(0.08, 0.15)\n",
    "plt.xticks([0, 1, 2, 3, 4, 5, 6, 7, 8, 9])\n",
    "plt.xlabel('Label number for handwriting')\n",
    "plt.ylabel('Probability of label')\n",
    "plt.legend()\n",
    "plt.savefig('MNIST NN layer44444.jpg', format='jpg')\n",
    "plt.show()\n"
   ]
  },
  {
   "cell_type": "code",
   "execution_count": 1,
   "id": "4adc9a8c",
   "metadata": {},
   "outputs": [],
   "source": [
    "# import torch\n",
    "\n",
    "# # Save the results to a file\n",
    "# torch.save({'adj_c': adj_c, 'adj_c_p': adj_c_p, 'mu': mu, 'y_p': y_p,\n",
    "#             'c': c, 'c_p': c_p, 'mu': mu, 'y_p': y_p}, 'confidence_intervals_MINIST_layers4.pth')\n",
    "\n",
    "# # Load the data back into your program\n",
    "# loaded_data = torch.load('confidence_intervals_MINIST_layers4.pth')\n",
    "\n",
    "# # Access the saved variables\n",
    "# loaded_adj_c = loaded_data['adj_c']\n",
    "# loaded_adj_c_p = loaded_data['adj_c_p']\n",
    "# loaded_mu = loaded_data['mu']\n",
    "# loaded_y_p = loaded_data['y_p']\n",
    "# loaded_c = loaded_data['c']\n",
    "# loaded_c_p = loaded_data['c_p']\n",
    "# loaded_mu = loaded_data['mu']\n",
    "# loaded_y_p = loaded_data['y_p']\n"
   ]
  },
  {
   "cell_type": "code",
   "execution_count": null,
   "id": "fbc658b8",
   "metadata": {},
   "outputs": [],
   "source": [
    "# Print the result weights and biases of each layer\n",
    "for name, param in model_adj.named_parameters():\n",
    "    print(f'Layer: {name}, Size: {param.size()}')\n",
    "    if 'model.4.weight' in name:\n",
    "        p=param\n",
    "        \n",
    "pp=p[5][-3:-1].detach().numpy()"
   ]
  },
  {
   "cell_type": "code",
   "execution_count": null,
   "id": "c138254c",
   "metadata": {},
   "outputs": [],
   "source": [
    "F, G, grad_vector = fisher_diagonal(model,5)\n",
    "f = F[-3:-1,-3:-1]\n",
    "f"
   ]
  },
  {
   "cell_type": "code",
   "execution_count": null,
   "id": "dd2916f5",
   "metadata": {},
   "outputs": [],
   "source": [
    "H=torch.inverse(f)\n",
    "h = H/len( y)\n",
    "h"
   ]
  },
  {
   "cell_type": "code",
   "execution_count": null,
   "id": "33d7e8f6",
   "metadata": {},
   "outputs": [],
   "source": [
    "adj = Adj[5][-3:-1,-3:-1]\n",
    "adj"
   ]
  },
  {
   "cell_type": "code",
   "execution_count": null,
   "id": "bc94b7ce",
   "metadata": {},
   "outputs": [],
   "source": [
    "cov_matrix = h.numpy()\n",
    "a = adj.numpy()\n",
    "cov_matrix2 =cov_matrix + a"
   ]
  },
  {
   "cell_type": "code",
   "execution_count": null,
   "id": "8699bb8c",
   "metadata": {},
   "outputs": [],
   "source": [
    "import numpy as np\n",
    "import matplotlib.pyplot as plt\n",
    "from scipy.stats import chi2\n",
    "\n",
    "def plot_confidence_ellipse(covariance_matrix, ax, n_std=2, **kwargs):\n",
    "    \"\"\"\n",
    "    Plot a confidence ellipse for a 2D distribution based on its covariance matrix.\n",
    "\n",
    "    Parameters:\n",
    "    - covariance_matrix: Covariance matrix of the distribution.\n",
    "    - ax: Matplotlib axes on which to plot the ellipse.\n",
    "    - n_std: Number of standard deviations for the ellipse. Default is 2 (95% confidence).\n",
    "    - **kwargs: Additional keyword arguments to pass to the ellipse patch.\n",
    "\n",
    "    Returns:\n",
    "    - ellipse: Ellipse artist.\n",
    "    \"\"\"\n",
    "    # Calculate eigenvalues and eigenvectors of the covariance matrix\n",
    "    eigenvalues, eigenvectors = np.linalg.eigh(covariance_matrix)\n",
    "\n",
    "    # Sort eigenvalues and eigenvectors in descending order\n",
    "    order = eigenvalues.argsort()[::-1]\n",
    "    eigenvalues = eigenvalues[order]\n",
    "    eigenvectors = eigenvectors[:, order]\n",
    "\n",
    "    # Calculate the angle of rotation for the ellipse\n",
    "    angle = np.degrees(np.arctan2(*eigenvectors[:, 0][::-1]))\n",
    "\n",
    "    # Create a 2D grid of points on the unit circle\n",
    "    theta = np.linspace(0, 2 * np.pi, 100)\n",
    "    unit_circle = np.array([np.cos(theta), np.sin(theta)])\n",
    "    print(eigenvalues.reshape(-1, 1))\n",
    "    # Scale and rotate the unit circle to create the ellipse\n",
    "    ellipse = n_std * np.sqrt(eigenvalues.reshape(-1, 1)) * unit_circle\n",
    "    transformation_matrix = np.array([[np.cos(np.radians(angle)), -np.sin(np.radians(angle))],\n",
    "                                      [np.sin(np.radians(angle)), np.cos(np.radians(angle))]])\n",
    "    ellipse = np.dot(transformation_matrix, ellipse)\n",
    "\n",
    "    # Extract the mean of the distribution\n",
    "    mean = pp \n",
    "\n",
    "    # Plot the ellipse\n",
    "    ellipse = ax.plot(ellipse[0, :] + mean[0], ellipse[1, :] + mean[1], **kwargs)\n",
    "    return ellipse\n",
    "\n",
    "\n",
    "# Create a figure and axes\n",
    "fig, ax = plt.subplots()\n",
    "\n",
    "# Plot the confidence ellipse with 90% confidence (1.645 standard deviations)\n",
    "plot_confidence_ellipse(cov_matrix, ax, n_std=1.645, color='blue', alpha=0.3)\n",
    "# Plot the confidence ellipse with 90% confidence (1.645 standard deviations)\n",
    "plot_confidence_ellipse(cov_matrix2, ax, n_std=1.645, color='red', alpha=0.3)\n",
    "plt.scatter(pp[0], pp[1], color='red', label='parameter')\n",
    "# Set axis labels and title\n",
    "ax.set_xlabel('X-axis')\n",
    "ax.set_ylabel('Y-axis')\n",
    "ax.set_title('90% Confidence Ellipse')\n",
    "\n",
    "plt.show()\n"
   ]
  },
  {
   "cell_type": "code",
   "execution_count": null,
   "id": "f54d4e61",
   "metadata": {},
   "outputs": [],
   "source": [
    "\n",
    "fig, ax = plt.subplots()\n",
    "\n",
    "plot_confidence_ellipse(cov_matrix, ax, n_std=1.645, color='blue', alpha=0.3, label='unadjusted var')\n",
    "plot_confidence_ellipse(cov_matrix2, ax, n_std=1.645, color='red', alpha=0.3, label='adjusted var')\n",
    "plt.scatter(pp[0], pp[1], color='red', label='parameter')\n",
    "ax.set_xlabel('X1')\n",
    "ax.set_ylabel('X2')\n",
    "ax.set_title('90% Confidence Ellipse')\n",
    "plt.xlim(pp[0]-100, pp[0]+100)  \n",
    "plt.ylim(pp[1]-100, pp[1]+100) \n",
    "# Show the plot\n",
    "plt.legend()\n",
    "plt.savefig('MNIST part.jpg', format='jpg')\n",
    "plt.show()\n"
   ]
  },
  {
   "cell_type": "code",
   "execution_count": null,
   "id": "326af174",
   "metadata": {},
   "outputs": [],
   "source": []
  },
  {
   "cell_type": "code",
   "execution_count": null,
   "id": "e3142255",
   "metadata": {},
   "outputs": [],
   "source": []
  }
 ],
 "metadata": {
  "kernelspec": {
   "display_name": "Python 3 (ipykernel)",
   "language": "python",
   "name": "python3"
  },
  "language_info": {
   "codemirror_mode": {
    "name": "ipython",
    "version": 3
   },
   "file_extension": ".py",
   "mimetype": "text/x-python",
   "name": "python",
   "nbconvert_exporter": "python",
   "pygments_lexer": "ipython3",
   "version": "3.11.4"
  }
 },
 "nbformat": 4,
 "nbformat_minor": 5
}
